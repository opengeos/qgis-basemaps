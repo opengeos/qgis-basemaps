{
 "cells": [
  {
   "cell_type": "markdown",
   "metadata": {},
   "source": [
    "[![Open In Colab](https://colab.research.google.com/assets/colab-badge.svg)](https://colab.research.google.com/github/opengeos/qgis-basemaps/blob/main/qgis_basemaps.ipynb)"
   ]
  },
  {
   "cell_type": "code",
   "execution_count": null,
   "metadata": {},
   "outputs": [],
   "source": [
    "# %pip install leafmap"
   ]
  },
  {
   "cell_type": "code",
   "execution_count": null,
   "metadata": {},
   "outputs": [],
   "source": [
    "import leafmap"
   ]
  },
  {
   "cell_type": "code",
   "execution_count": null,
   "metadata": {},
   "outputs": [],
   "source": [
    "maps = leafmap.basemaps"
   ]
  },
  {
   "cell_type": "code",
   "execution_count": null,
   "metadata": {},
   "outputs": [],
   "source": [
    "sources = []\n",
    "for basemap in maps:\n",
    "    if maps[basemap]['type'] == 'xyz' and (\"Staida\" not in basemap):\n",
    "        source = []\n",
    "        source.append(\"connections-xyz\")\n",
    "        source.append(basemap)\n",
    "        source.append(\"\")\n",
    "        source.append(\"\")\n",
    "        source.append(maps[basemap]['attribution'][:50])\n",
    "        source.append(maps[basemap]['url'].replace(\"&key=YOUR-API-KEY\", \"\"))\n",
    "        source.append(\"\")\n",
    "        source.append(\"30\")\n",
    "        source.append(\"0\")\n",
    "        sources.append(source)"
   ]
  },
  {
   "cell_type": "code",
   "execution_count": null,
   "metadata": {},
   "outputs": [],
   "source": [
    "print(f\"The number of basemaps is {len(sources)}.\")"
   ]
  },
  {
   "cell_type": "code",
   "execution_count": null,
   "metadata": {},
   "outputs": [],
   "source": [
    "with open(\"qgis_basemaps.py\", \"w\") as f:\n",
    "\n",
    "    header = \"\"\"\n",
    "# This script is inspired by Klas Karlsson at https://bit.ly/4eDbx1O. Credit to Klas Karlsson.\n",
    "# I expaned the script to include more basemaps from xyzservices\\n\\n\n",
    "\"\"\"\n",
    "    f.write(header)\n",
    "\n",
    "    f.write(\"from qgis.PyQt.QtCore import QSettings\\n\")\n",
    "    f.write(\"from qgis.utils import iface\\n\\n\")\n",
    "    f.write(\"sources = []\\n\")\n",
    "\n",
    "    for source in sources:\n",
    "        line = f\"sources.append({str(source)})\\n\"\n",
    "        f.write(line)\n",
    "\n",
    "    bing_maps = [\n",
    "        \"connections-xyz\",\n",
    "        \"Bing VirtualEarth\",\n",
    "        \"\",\n",
    "        \"\",\n",
    "        \"Microsoft\",\n",
    "        \"http://ecn.t3.tiles.virtualearth.net/tiles/a{q}.jpeg?g=1\",\n",
    "        \"\",\n",
    "        \"30\",\n",
    "        \"1\",\n",
    "    ]\n",
    "    line = f\"sources.append({str(bing_maps)})\\n\"\n",
    "    f.write(line)\n",
    "\n",
    "    footer = \"\"\"\n",
    "for source in sources:\n",
    "    connectionType = source[0]\n",
    "    connectionName = source[1]\n",
    "    \n",
    "    QSettings().setValue(f\"qgis/{connectionType}/{connectionName}/authcfg\", source[2])\n",
    "    QSettings().setValue(f\"qgis/{connectionType}/{connectionName}/password\", source[3])\n",
    "    QSettings().setValue(f\"qgis/{connectionType}/{connectionName}/referer\", source[4])\n",
    "    QSettings().setValue(f\"qgis/{connectionType}/{connectionName}/url\", source[5])\n",
    "    QSettings().setValue(f\"qgis/{connectionType}/{connectionName}/username\", source[6])\n",
    "    QSettings().setValue(f\"qgis/{connectionType}/{connectionName}/zmax\", source[7])\n",
    "    QSettings().setValue(f\"qgis/{connectionType}/{connectionName}/zmin\", source[8])\n",
    "\n",
    "iface.reloadConnections()\n",
    "\"\"\"\n",
    "    f.write(footer)"
   ]
  }
 ],
 "metadata": {
  "kernelspec": {
   "display_name": "geo",
   "language": "python",
   "name": "python3"
  },
  "language_info": {
   "codemirror_mode": {
    "name": "ipython",
    "version": 3
   },
   "file_extension": ".py",
   "mimetype": "text/x-python",
   "name": "python",
   "nbconvert_exporter": "python",
   "pygments_lexer": "ipython3",
   "version": "3.12.2"
  }
 },
 "nbformat": 4,
 "nbformat_minor": 2
}
